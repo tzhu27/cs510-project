{
 "cells": [
  {
   "cell_type": "markdown",
   "metadata": {},
   "source": [
    "# Package Import"
   ]
  },
  {
   "cell_type": "code",
   "execution_count": 1,
   "metadata": {},
   "outputs": [
    {
     "name": "stdout",
     "output_type": "stream",
     "text": [
      "ok\n",
      "ok\n"
     ]
    }
   ],
   "source": [
    "from gdig.gdig import GDIG\n",
    "import json"
   ]
  },
  {
   "cell_type": "markdown",
   "metadata": {},
   "source": [
    "# How to Use"
   ]
  },
  {
   "cell_type": "code",
   "execution_count": null,
   "metadata": {},
   "outputs": [],
   "source": [
    "\n",
    "gdig = GDIG(\n",
    "    model_name=\"bigscience/bloom-560m\",  \n",
    "    device=\"cpu\",                     \n",
    "    lambda_param=0.5                    \n",
    ")"
   ]
  },
  {
   "cell_type": "code",
   "execution_count": null,
   "metadata": {},
   "outputs": [],
   "source": [
    "\n",
    "# gdig.load_kfac(\"path/to/kfac.pkl\")\n",
    "\n",
    "\n",
    "# gdig.prepare_query_data(\"query_data.json\")\n",
    "\n",
    "# results = gdig.score_data(\"candidate_data.json\")\n",
    "\n",
    "# gdig.save_results(results, \"results.json\")\n",
    "\n",
    "# sorted_results = sorted(results, key=lambda x: x[\"score\"])\n",
    "# for i, result in enumerate(sorted_results[:3]):\n",
    "#     print(f\"样本 {i+1}:\")\n",
    "#     print(f\"  分数: {result['score']:.4f}\")\n",
    "#     print(f\"  文本: {result['text'][0]}\")"
   ]
  },
  {
   "cell_type": "code",
   "execution_count": 7,
   "metadata": {},
   "outputs": [
    {
     "name": "stdout",
     "output_type": "stream",
     "text": [
      "样本 1:\n",
      "  分数: -0.7850 (越低越重要)\n",
      "  文本: 医学术语示例 心肌梗死是由血流减少引起的\n",
      "样本 2:\n",
      "  分数: -0.3120 (越低越重要)\n",
      "  文本: 常见症状包括胸痛和呼吸急促\n"
     ]
    }
   ],
   "source": [
    "\n",
    "mock_results = [\n",
    "       {\"score\": -0.785, \"loss\": 2.34, \"text\": [\"医学术语示例 心肌梗死是由血流减少引起的\"]},\n",
    "       {\"score\": -0.312, \"loss\": 1.75, \"text\": [\"常见症状包括胸痛和呼吸急促\"]}\n",
    "]\n",
    "   \n",
    "\n",
    "sorted_results = sorted(mock_results, key=lambda x: x[\"score\"])\n",
    "for i, result in enumerate(sorted_results):\n",
    "    print(f\"样本 {i+1}:\")\n",
    "    print(f\"  分数: {result['score']:.4f} (越低越重要)\")\n",
    "    print(f\"  文本: {result['text'][0]}\")"
   ]
  },
  {
   "cell_type": "code",
   "execution_count": null,
   "metadata": {},
   "outputs": [],
   "source": [
    "\n",
    "query_data = [\n",
    "    {\n",
    "        \"source\": \"The patient was diagnosed with acute myocardial infarction.\",\n",
    "        \"target\": \"患者被诊断为急性心肌梗死。\",\n",
    "        \"model_output\": \"患者被诊断为急性心脏病。\"  \n",
    "    }\n",
    "]\n",
    "\n",
    "# 候选数据格式 - 可能有助于改善模型的样本\n",
    "candidate_data = [\n",
    "    {\"source\": \"Myocardial infarction is caused by reduced blood flow.\", \n",
    "     \"target\": \"心肌梗死是由血流减少引起的。\"},\n",
    "    {\"source\": \"The symptoms include chest pain and shortness of breath.\", \n",
    "     \"target\": \"症状包括胸痛和呼吸急促。\"}\n",
    "]"
   ]
  }
 ],
 "metadata": {
  "kernelspec": {
   "display_name": "base",
   "language": "python",
   "name": "python3"
  },
  "language_info": {
   "codemirror_mode": {
    "name": "ipython",
    "version": 3
   },
   "file_extension": ".py",
   "mimetype": "text/x-python",
   "name": "python",
   "nbconvert_exporter": "python",
   "pygments_lexer": "ipython3",
   "version": "3.12.2"
  }
 },
 "nbformat": 4,
 "nbformat_minor": 2
}
